{
 "cells": [
  {
   "cell_type": "code",
   "execution_count": 1,
   "metadata": {},
   "outputs": [
    {
     "name": "stdout",
     "output_type": "stream",
     "text": [
      "Mandy's favorite number is 42.\n",
      "Micah's favorite number is 23.\n",
      "Gus's favorite number is 7.\n",
      "Hank's favorite number is 1000000.\n",
      "Maggie's favorite number is 0.\n"
     ]
    }
   ],
   "source": [
    "favorite_numbers = {\n",
    "    'mandy': 42,\n",
    "    'micah': 23,\n",
    "    'gus': 7,\n",
    "    'hank': 1000000,\n",
    "    'maggie': 0,\n",
    "    }\n",
    "\n",
    "num = favorite_numbers['mandy']\n",
    "print(\"Mandy's favorite number is \" + str(num) + \".\")\n",
    "\n",
    "num = favorite_numbers['micah']\n",
    "print(\"Micah's favorite number is \" + str(num) + \".\")\n",
    "\n",
    "num = favorite_numbers['gus']\n",
    "print(\"Gus's favorite number is \" + str(num) + \".\")\n",
    "\n",
    "num = favorite_numbers['hank']\n",
    "print(\"Hank's favorite number is \" + str(num) + \".\")\n",
    "\n",
    "num = favorite_numbers['maggie']\n",
    "print(\"Maggie's favorite number is \" + str(num) + \".\")"
   ]
  },
  {
   "cell_type": "code",
   "execution_count": 2,
   "metadata": {},
   "outputs": [
    {
     "name": "stdout",
     "output_type": "stream",
     "text": [
      "\n",
      "Karachi is in Pakistan.\n",
      "  It has a population of about 220000000.\n",
      "  The Himalaya mountains are nearby.\n",
      "\n",
      "Delhi is in India.\n",
      "  It has a population of about 1800000.\n",
      "  The K-2 mountains are nearby.\n",
      "\n",
      "Colombo is in Srilanka.\n",
      "  It has a population of about 1003285.\n",
      "  The Himilaya mountains are nearby.\n"
     ]
    }
   ],
   "source": [
    "cities = {\n",
    "    'karachi': {\n",
    "        'country': 'pakistan',\n",
    "        'population': 220000000,\n",
    "        'nearby mountains': 'himalaya',\n",
    "        },\n",
    "    'delhi': {\n",
    "        'country': 'india',\n",
    "        'population': 1800000,\n",
    "        'nearby mountains': 'k-2',\n",
    "        },\n",
    "    'colombo': {\n",
    "        'country': 'srilanka',\n",
    "        'population': 1003285,\n",
    "        'nearby mountains': 'himilaya',\n",
    "        }\n",
    "    }\n",
    "\n",
    "for city, city_info in cities.items():\n",
    "    country = city_info['country'].title()\n",
    "    population = city_info['population']\n",
    "    mountains = city_info['nearby mountains'].title()\n",
    "\n",
    "    print(\"\\n\" + city.title() + \" is in \" + country + \".\")\n",
    "    print(\"  It has a population of about \" + str(population) + \".\")\n",
    "    print(\"  The \" + mountains + \" mountains are nearby.\")"
   ]
  },
  {
   "cell_type": "code",
   "execution_count": null,
   "metadata": {},
   "outputs": [
    {
     "name": "stdout",
     "output_type": "stream",
     "text": [
      "\n",
      "Enter 'quit' when you are finished.\n",
      "Please enter your age: 18\n",
      "Your ticket is $15\n",
      "\n",
      "Enter 'quit' when you are finished.\n",
      "Please enter your age: 22\n",
      "Your ticket is $15\n",
      "\n",
      "Enter 'quit' when you are finished.\n",
      "Please enter your age: 7\n",
      "Your ticket is $10\n"
     ]
    }
   ],
   "source": [
    "prompt = \"\\nEnter 'quit' when you are finished.\"\n",
    "prompt += \"\\nPlease enter your age: \"\n",
    "\n",
    "\n",
    "while True:\n",
    "    age = input(prompt)\n",
    "    age = int(age)\n",
    "\n",
    "\n",
    "    if age == 'quit':\n",
    "        break\n",
    "    elif age <= 3:\n",
    "        print(\"Your ticket is free\")\n",
    "    elif age <= 10:\n",
    "        print(\"Your ticket is $10\")\n",
    "    else:\n",
    "        print(\"Your ticket is $15\")"
   ]
  },
  {
   "cell_type": "code",
   "execution_count": 2,
   "metadata": {},
   "outputs": [
    {
     "name": "stdout",
     "output_type": "stream",
     "text": [
      "ALICE IN THE WONDERLAND is one of my favorite books.\n"
     ]
    }
   ],
   "source": [
    "def favorite_book(title):\n",
    "    \"\"\"Display a message about someone's favorite book.\"\"\"\n",
    "    print(title + \" is one of my favorite books.\")\n",
    "\n",
    "favorite_book('ALICE IN THE WONDERLAND')"
   ]
  },
  {
   "cell_type": "code",
   "execution_count": null,
   "metadata": {},
   "outputs": [
    {
     "name": "stdout",
     "output_type": "stream",
     "text": [
      "Guess a number one through one hundred55\n",
      "too high\n",
      "Guess a number one through one hundred 53\n",
      "too high\n",
      "Guess a number one through one hundred23\n",
      "too high\n"
     ]
    }
   ],
   "source": [
    "import random\n",
    "it=random.randint(0, 101)\n",
    "def main():\n",
    "    x=int(input('Guess a number one through one hundred'))\n",
    "    if x == it:\n",
    "        print(\"You got it!\")\n",
    "    elif x > it:\n",
    "        print(\"too high\")\n",
    "        main()\n",
    "    else:\n",
    "        print(\"too low\")\n",
    "        main()\n",
    "main()"
   ]
  },
  {
   "cell_type": "markdown",
   "metadata": {},
   "source": [
    "##### "
   ]
  }
 ],
 "metadata": {
  "kernelspec": {
   "display_name": "Python 3",
   "language": "python",
   "name": "python3"
  },
  "language_info": {
   "codemirror_mode": {
    "name": "ipython",
    "version": 3
   },
   "file_extension": ".py",
   "mimetype": "text/x-python",
   "name": "python",
   "nbconvert_exporter": "python",
   "pygments_lexer": "ipython3",
   "version": "3.7.4"
  }
 },
 "nbformat": 4,
 "nbformat_minor": 2
}
